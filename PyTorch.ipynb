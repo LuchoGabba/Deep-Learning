{
  "cells": [
    {
      "cell_type": "markdown",
      "metadata": {
        "id": "bqXIVaXez9Ni"
      },
      "source": [
        "<a href=\"https://colab.research.google.com/github/LuchoGabba/Deep-Learning/blob/main/PyTorch.ipynb\"> <img src='https://colab.research.google.com/assets/colab-badge.svg' /> </a>"
      ]
    },
    {
      "cell_type": "markdown",
      "source": [
        "# ![](https://images.g2crowd.com/uploads/product/image/social_landscape/social_landscape_656e174b12c49be1cfb4723a938ea43e/pytorch.png)"
      ],
      "metadata": {
        "id": "EZ12xse83dI0"
      }
    },
    {
      "cell_type": "markdown",
      "metadata": {
        "id": "JqlXlOfjz9No"
      },
      "source": [
        "## Tensores de PyTorch\n",
        "\n",
        "Los tensores son objetos de la clase ``torch.Tensor``."
      ]
    },
    {
      "cell_type": "code",
      "execution_count": 1,
      "metadata": {
        "id": "UxNyp8luz9Np"
      },
      "outputs": [],
      "source": [
        "import torch\n",
        "import math"
      ]
    },
    {
      "cell_type": "markdown",
      "metadata": {
        "id": "8YtVX82dz9Np"
      },
      "source": [
        "### Create a tensor\n",
        "\n",
        "With 3 rows and 4 columns:"
      ]
    },
    {
      "cell_type": "code",
      "source": [
        "x = torch.empty(3, 4)\n",
        "print(type(x))\n",
        "print(x)"
      ],
      "metadata": {
        "id": "i8fZKgRn16Vc",
        "outputId": "9f8d9393-edda-4e1d-d985-76d3fd84b376",
        "colab": {
          "base_uri": "https://localhost:8080/"
        }
      },
      "execution_count": 2,
      "outputs": [
        {
          "output_type": "stream",
          "name": "stdout",
          "text": [
            "<class 'torch.Tensor'>\n",
            "tensor([[6.9780e+22, 7.2251e+28, 1.7841e+25, 1.8492e+20],\n",
            "        [1.8494e+31, 4.7364e+30, 3.0386e+29, 1.9635e+17],\n",
            "        [1.5621e+07, 7.6590e+28, 1.8492e+20, 9.2851e-04]])\n"
          ]
        }
      ]
    },
    {
      "cell_type": "markdown",
      "source": [
        "Check this link about randomness: https://pytorch.org/docs/stable/notes/randomness.html"
      ],
      "metadata": {
        "id": "U3pzJ2Gx251Z"
      }
    },
    {
      "cell_type": "code",
      "source": [
        "zeros = torch.zeros(2, 3)\n",
        "print(zeros)\n",
        "\n",
        "ones = torch.ones(2, 3)\n",
        "print(ones)\n",
        "\n",
        "torch.manual_seed(1729)\n",
        "random = torch.rand(2, 3)\n",
        "print(random)"
      ],
      "metadata": {
        "id": "Wc-tQi8S18c-",
        "outputId": "3c3fc70d-ebde-4658-f175-a8b29a6b3f4b",
        "colab": {
          "base_uri": "https://localhost:8080/"
        }
      },
      "execution_count": 3,
      "outputs": [
        {
          "output_type": "stream",
          "name": "stdout",
          "text": [
            "tensor([[0., 0., 0.],\n",
            "        [0., 0., 0.]])\n",
            "tensor([[1., 1., 1.],\n",
            "        [1., 1., 1.]])\n",
            "tensor([[0.3126, 0.3791, 0.3087],\n",
            "        [0.0736, 0.4216, 0.0691]])\n"
          ]
        }
      ]
    },
    {
      "cell_type": "markdown",
      "source": [
        "### Tensor shape\n",
        "\n",
        "``torch.*_like()``\n"
      ],
      "metadata": {
        "id": "JuCmRjvg3MNi"
      }
    },
    {
      "cell_type": "code",
      "source": [
        "x = torch.empty(2, 2, 3)\n",
        "print(x.shape)\n",
        "print(x)\n",
        "\n",
        "empty_like_x = torch.empty_like(x)\n",
        "print(empty_like_x.shape)\n",
        "print(empty_like_x)\n",
        "\n",
        "zeros_like_x = torch.zeros_like(x)\n",
        "print(zeros_like_x.shape)\n",
        "print(zeros_like_x)\n",
        "\n",
        "ones_like_x = torch.ones_like(x)\n",
        "print(ones_like_x.shape)\n",
        "print(ones_like_x)\n",
        "\n",
        "rand_like_x = torch.rand_like(x)\n",
        "print(rand_like_x.shape)\n",
        "print(rand_like_x)"
      ],
      "metadata": {
        "id": "OB5ML6N72VS0",
        "outputId": "ee104c0a-b035-4615-be58-d6303fe70db8",
        "colab": {
          "base_uri": "https://localhost:8080/"
        }
      },
      "execution_count": 4,
      "outputs": [
        {
          "output_type": "stream",
          "name": "stdout",
          "text": [
            "torch.Size([2, 2, 3])\n",
            "tensor([[[-5.5744e+17,  4.4842e-41, -1.6165e-27],\n",
            "         [ 3.3134e-41,  4.4842e-44,  0.0000e+00]],\n",
            "\n",
            "        [[ 8.9683e-44,  0.0000e+00,  1.8334e+14],\n",
            "         [ 3.3127e-41,  0.0000e+00,  0.0000e+00]]])\n",
            "torch.Size([2, 2, 3])\n",
            "tensor([[[-5.5744e+17,  4.4842e-41, -5.5744e+17],\n",
            "         [ 4.4842e-41,  4.4842e-44,  0.0000e+00]],\n",
            "\n",
            "        [[ 1.1210e-43,  0.0000e+00,  1.8334e+14],\n",
            "         [ 3.3127e-41,  0.0000e+00,  0.0000e+00]]])\n",
            "torch.Size([2, 2, 3])\n",
            "tensor([[[0., 0., 0.],\n",
            "         [0., 0., 0.]],\n",
            "\n",
            "        [[0., 0., 0.],\n",
            "         [0., 0., 0.]]])\n",
            "torch.Size([2, 2, 3])\n",
            "tensor([[[1., 1., 1.],\n",
            "         [1., 1., 1.]],\n",
            "\n",
            "        [[1., 1., 1.],\n",
            "         [1., 1., 1.]]])\n",
            "torch.Size([2, 2, 3])\n",
            "tensor([[[0.2332, 0.4047, 0.2162],\n",
            "         [0.9927, 0.4128, 0.5938]],\n",
            "\n",
            "        [[0.6128, 0.1519, 0.0453],\n",
            "         [0.5035, 0.9978, 0.3884]]])\n"
          ]
        }
      ]
    },
    {
      "cell_type": "markdown",
      "source": [
        "### Data type of a tensor\n",
        "\n",
        "By default is a float of 32 bits, but we can change de dtype"
      ],
      "metadata": {
        "id": "JgSoMtdg4eJ0"
      }
    },
    {
      "cell_type": "code",
      "source": [
        "a = torch.ones((2, 3), dtype=torch.int16)\n",
        "print(a)\n",
        "\n",
        "b = torch.rand((2, 3), dtype=torch.float64) * 20.\n",
        "print(b)\n",
        "\n",
        "c = b.to(torch.int32)\n",
        "print(c)"
      ],
      "metadata": {
        "id": "8NR7PMt837yu",
        "outputId": "f3a3b48d-da88-4c53-d2ed-b74ef06dc26d",
        "colab": {
          "base_uri": "https://localhost:8080/"
        }
      },
      "execution_count": 5,
      "outputs": [
        {
          "output_type": "stream",
          "name": "stdout",
          "text": [
            "tensor([[1, 1, 1],\n",
            "        [1, 1, 1]], dtype=torch.int16)\n",
            "tensor([[10.8626,  2.1505, 19.6913],\n",
            "        [ 0.9956,  1.4148,  5.8364]], dtype=torch.float64)\n",
            "tensor([[10,  2, 19],\n",
            "        [ 0,  1,  5]], dtype=torch.int32)\n"
          ]
        }
      ]
    },
    {
      "cell_type": "markdown",
      "source": [
        "Data type:\n",
        "\n",
        "-  ``torch.bool``\n",
        "-  ``torch.int8``\n",
        "-  ``torch.uint8``\n",
        "-  ``torch.int16``\n",
        "-  ``torch.int32``\n",
        "-  ``torch.int64``\n",
        "-  ``torch.half``\n",
        "-  ``torch.float``\n",
        "-  ``torch.double``\n",
        "-  ``torch.bfloat``\n",
        "\n",
        "Check Broadcasting: https://pytorch.org/docs/stable/notes/broadcasting.html\n",
        "\n",
        "Mathematical operations: https://pytorch.org/docs/stable/torch.html#math-operations\n",
        "\n",
        "If you use '_' for mathematical operations, the tensor changes with the mathematical function.\n",
        "\n",
        "To copy a tensor use ``clone()``\n",
        "\n",
        "### Change dimensions\n",
        "\n",
        "``unsqueeze()`` adds a new dimension of extension 1.\n",
        "\n",
        "We can ``squeeze()`` only over dimensions of size 1.\n",
        "\n",
        "Both methods work with '_'.\n",
        "\n",
        "See: <https://pytorch.org/docs/stable/torch.html#torch.reshape>"
      ],
      "metadata": {
        "id": "frxXhXQn5N7s"
      }
    },
    {
      "cell_type": "code",
      "source": [],
      "metadata": {
        "id": "3Kxsws_l4xAY"
      },
      "execution_count": 5,
      "outputs": []
    }
  ],
  "metadata": {
    "language_info": {
      "name": "python"
    },
    "colab": {
      "provenance": []
    },
    "kernelspec": {
      "name": "python3",
      "display_name": "Python 3"
    }
  },
  "nbformat": 4,
  "nbformat_minor": 0
}